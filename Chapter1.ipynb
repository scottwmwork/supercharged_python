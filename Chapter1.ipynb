{
 "cells": [
  {
   "cell_type": "markdown",
   "metadata": {},
   "source": [
    "# 1.1 Python Quick Start"
   ]
  },
  {
   "cell_type": "code",
   "execution_count": 1,
   "metadata": {},
   "outputs": [
    {
     "data": {
      "text/plain": [
       "60"
      ]
     },
     "execution_count": 1,
     "metadata": {},
     "output_type": "execute_result"
    }
   ],
   "source": [
    "a = 10\n",
    "b = 20\n",
    "c = 30\n",
    "a + b + c"
   ]
  },
  {
   "cell_type": "markdown",
   "metadata": {},
   "source": [
    "You can think of variables as storage locations into which to place values, even though that's not precisely what Python does.\n",
    "What Python really does is make a,b, and c into names for the values 10, 20 and 30. You can assign new values to a variable once it's created in the following example, it looks as if we're incrementing a value stored in a magical box (even though we're not really not doing that)."
   ]
  },
  {
   "cell_type": "code",
   "execution_count": 2,
   "metadata": {},
   "outputs": [
    {
     "data": {
      "text/plain": [
       "7"
      ]
     },
     "execution_count": 2,
     "metadata": {},
     "output_type": "execute_result"
    }
   ],
   "source": [
    "n = 5\n",
    "n = n + 1\n",
    "n = n + 1\n",
    "n"
   ]
  },
  {
   "cell_type": "markdown",
   "metadata": {},
   "source": [
    "What's really going on is that we're repeatedly reassigning n as a name for an increasingly higher value. Assignments create variables, and yohu can't use a variable name that hasn't yet been created."
   ]
  },
  {
   "cell_type": "code",
   "execution_count": 3,
   "metadata": {},
   "outputs": [
    {
     "ename": "NameError",
     "evalue": "name 'x' is not defined",
     "output_type": "error",
     "traceback": [
      "\u001b[1;31m---------------------------------------------------------------------------\u001b[0m",
      "\u001b[1;31mNameError\u001b[0m                                 Traceback (most recent call last)",
      "\u001b[1;32m<ipython-input-3-de19c72ab863>\u001b[0m in \u001b[0;36m<module>\u001b[1;34m\u001b[0m\n\u001b[0;32m      1\u001b[0m \u001b[0ma\u001b[0m \u001b[1;33m=\u001b[0m \u001b[1;36m5\u001b[0m\u001b[1;33m\u001b[0m\u001b[1;33m\u001b[0m\u001b[0m\n\u001b[1;32m----> 2\u001b[1;33m \u001b[0mb\u001b[0m \u001b[1;33m=\u001b[0m \u001b[0ma\u001b[0m \u001b[1;33m+\u001b[0m \u001b[0mx\u001b[0m\u001b[1;33m\u001b[0m\u001b[1;33m\u001b[0m\u001b[0m\n\u001b[0m",
      "\u001b[1;31mNameError\u001b[0m: name 'x' is not defined"
     ]
    }
   ],
   "source": [
    "a = 5\n",
    "b = a + x"
   ]
  },
  {
   "cell_type": "markdown",
   "metadata": {},
   "source": [
    "Because x has not yet been assigned a value, python isn't happy. The solution is to assign a value to x before it's used on the righ tside of an assignment."
   ]
  },
  {
   "cell_type": "markdown",
   "metadata": {},
   "source": [
    "a = 5\n",
    "x = 2.5 \n",
    "b = a + x\n",
    "b"
   ]
  },
  {
   "cell_type": "markdown",
   "metadata": {},
   "source": [
    "There are no data declerations in Python. Instead, a variable is created by an assignment. You can run Python programs as scripts."
   ]
  },
  {
   "cell_type": "code",
   "execution_count": 5,
   "metadata": {},
   "outputs": [
    {
     "name": "stdout",
     "output_type": "stream",
     "text": [
      "13.0\n"
     ]
    }
   ],
   "source": [
    "side1 = 5\n",
    "side2 = 12\n",
    "hyp = (side1 * side1 + side2 * side2) ** 0.5\n",
    "print(hyp)"
   ]
  },
  {
   "cell_type": "markdown",
   "metadata": {},
   "source": [
    "# 1.2 Variables and Naming Names"
   ]
  },
  {
   "cell_type": "markdown",
   "metadata": {},
   "source": [
    "Although Python gives you some latitude in choosing vairable names, there are some rules\n",
    "\n",
    "- The first character must be a letter or an underscore _, but the remaining characters can be any combination of underscores, letters,and digits\n",
    "- Names with leading underscores are intended to be private to a class, and names starting with double underscores have special meaning such as __init__ or __add__ so avoid using names that start with double underscores.\n",
    "- Avoid any name that is a ketword such as if, else, elif, and or, not, class, while, break continue, yield, import, and def.\n",
    "- Initial-all-capped names are generall reserved for special types, such as class names."
   ]
  },
  {
   "cell_type": "markdown",
   "metadata": {},
   "source": [
    "# 1.3 Combined Assignment Operators\n",
    "\n",
    "from the ideas in the previous section you should be able to see that the following statements are valid:"
   ]
  },
  {
   "cell_type": "code",
   "execution_count": 1,
   "metadata": {},
   "outputs": [],
   "source": [
    "n = 10    # n is a name for 10\n",
    "n = n + 1 # n is a name for 11\n",
    "n = n + 1 # n is a name for 12"
   ]
  },
  {
   "cell_type": "markdown",
   "metadata": {},
   "source": [
    "the following are shortcut assignments that are useful to know:"
   ]
  },
  {
   "cell_type": "code",
   "execution_count": 2,
   "metadata": {},
   "outputs": [],
   "source": [
    "n = 10  # n must exist before being modified\n",
    "n += 1  # Equivalent to n = n + 1\n",
    "n += 10 # Equivalent to n = n + 10\n",
    "n *= 2  # Equivalent to n = n * 2\n",
    "n -= 1  # Equivalent to n = n - 1\n",
    "n /= 3  # Equivalent to n = n / 3"
   ]
  },
  {
   "cell_type": "markdown",
   "metadata": {},
   "source": [
    "# 1.4 Summary of Python Aritmetic Operators"
   ]
  },
  {
   "cell_type": "code",
   "execution_count": null,
   "metadata": {},
   "outputs": [],
   "source": [
    "# Summary of arithmetic operators (the number next to the description is the the precedence)\n",
    "\n",
    "a ** b # Exponentiation 1\n",
    "a * b  # Multiplication 2\n",
    "a / b  # Division 2\n",
    "a // b # Ground division 2\n",
    "a % b  # Remainder division 2\n",
    "a + b  # Addition 3\n",
    "a - b  # Subtraction 3"
   ]
  },
  {
   "cell_type": "code",
   "execution_count": 6,
   "metadata": {},
   "outputs": [],
   "source": [
    "hypot = (a * a + b * b) ** 0.5 # the paranthesis take precedence over the exponent operation"
   ]
  }
 ],
 "metadata": {
  "kernelspec": {
   "display_name": "Python 3",
   "language": "python",
   "name": "python3"
  },
  "language_info": {
   "codemirror_mode": {
    "name": "ipython",
    "version": 3
   },
   "file_extension": ".py",
   "mimetype": "text/x-python",
   "name": "python",
   "nbconvert_exporter": "python",
   "pygments_lexer": "ipython3",
   "version": "3.7.4"
  }
 },
 "nbformat": 4,
 "nbformat_minor": 4
}
